{
 "cells": [
  {
   "cell_type": "code",
   "execution_count": 67,
   "metadata": {},
   "outputs": [
    {
     "name": "stdout",
     "output_type": "stream",
     "text": [
      "Enter the number of days in the month: 45\n",
      "Error. Please enter a valid month length (27-32 days)\n",
      "Enter the number of days in the month: 23\n",
      "Error. Please enter a valid month length (27-32 days)\n",
      "Enter the number of days in the month: 29\n",
      "Monday = 1 \n",
      "Tuesday = 2 \n",
      "Wednesday = 3 \n",
      "Thursday = 4 \n",
      "Friday = 5 \n",
      "Saturday = 6 \n",
      "Sunday = 7\n",
      "Enter the day the month starts on (1-7): 5\n",
      "\n",
      "M   T   W   T   F   S   S\n",
      "                1   2   3   \n",
      "4   5   6   7   8   9   10  \n",
      "11  12  13  14  15  16  17  \n",
      "18  19  20  21  22  23  24  \n",
      "25  26  27  28  29  "
     ]
    }
   ],
   "source": [
    "#Takes user input for month length (continuously until a valid number is entered)\n",
    "month_length = int(input(\"Enter the number of days in the month: \"))\n",
    "while month_length < 27 or month_length > 32:\n",
    "    print(\"Error. Please enter a valid month length (27-32 days)\")\n",
    "    month_length = int(input(\"Enter the number of days in the month: \"))\n",
    "\n",
    "#Takes user iput for the day the month starts on (continuously until a valid number is entered)\n",
    "print(\"Monday = 1 \\nTuesday = 2 \\nWednesday = 3 \\nThursday = 4 \\nFriday = 5 \\nSaturday = 6 \\nSunday = 7\")\n",
    "first_day = int(input(\"Enter the day the month starts on (1-7): \"))\n",
    "while first_day < 1 or first_day > 7:\n",
    "    print(\"Error. Please enter a valid month start date (1-7)\")\n",
    "    first_day = int(input(\"Enter the day the month starts on (1-7): \"))\n",
    "\n",
    "#Displays the days of the month\n",
    "print()\n",
    "print(\"M   T   W   T   F   S   S\")\n",
    "\n",
    "#Displays the appropriate amount of spaces to start the calendar on the correct day\n",
    "if first_day == 1:\n",
    "    spaces = (\"\")\n",
    "elif first_day == 2:\n",
    "    spaces = (\"    \")\n",
    "elif first_day == 3:\n",
    "    spaces = (\"        \")\n",
    "elif first_day == 4: \n",
    "    spaces = (\"            \")\n",
    "elif first_day == 5: \n",
    "    spaces = (\"                \")\n",
    "elif first_day == 6: \n",
    "    spaces = (\"                    \")\n",
    "elif first_day == 7:  \n",
    "    spaces = (\"                        \")\n",
    "else:\n",
    "    print(\"Error. Please only enter a number (1-7)\")\n",
    "\n",
    "print(f\"{spaces}\", end=\"\")\n",
    "\n",
    "#Displays the dates of the month in the correct alignment based on month start day\n",
    "for j in range(1, month_length+1):\n",
    "    if j < 10:\n",
    "        print(j, \"  \", end=\"\")\n",
    "    elif j >= 10:\n",
    "        print(j, \" \", end=\"\")\n",
    "        \n",
    "    if j + first_day == 8:\n",
    "        print()\n",
    "        \n",
    "    if j >= (14 - (first_day)) and (j-(8 - first_day)) % 7 == 0:\n",
    "        print()\n",
    "    \n",
    "        \n",
    "   "
   ]
  },
  {
   "cell_type": "code",
   "execution_count": null,
   "metadata": {},
   "outputs": [],
   "source": []
  },
  {
   "cell_type": "code",
   "execution_count": null,
   "metadata": {},
   "outputs": [],
   "source": []
  }
 ],
 "metadata": {
  "kernelspec": {
   "display_name": "Python 3",
   "language": "python",
   "name": "python3"
  },
  "language_info": {
   "codemirror_mode": {
    "name": "ipython",
    "version": 3
   },
   "file_extension": ".py",
   "mimetype": "text/x-python",
   "name": "python",
   "nbconvert_exporter": "python",
   "pygments_lexer": "ipython3",
   "version": "3.8.3"
  }
 },
 "nbformat": 4,
 "nbformat_minor": 4
}
